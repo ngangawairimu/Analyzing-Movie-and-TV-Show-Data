{
 "cells": [
  {
   "cell_type": "code",
   "execution_count": null,
   "id": "6a5809fd-72aa-43fd-bc39-585415e0fd07",
   "metadata": {},
   "outputs": [],
   "source": [
    "# Load and activate the SQL extension to allow us to execute SQL in a Jupyter notebook. \n",
    "# If you get an error here, make sure that mysql and pymysql are installed correctly. \n",
    "\n",
    "%load_ext sql"
   ]
  },
  {
   "cell_type": "code",
   "execution_count": 2,
   "id": "def80346-2fa5-4359-a4e8-b65b31b9a459",
   "metadata": {},
   "outputs": [],
   "source": [
    "%sql sqlite:///TMDB.db"
   ]
  },
  {
   "cell_type": "code",
   "execution_count": 5,
   "id": "7cedefb2-d2a5-4893-a1f0-c67ae47abc59",
   "metadata": {},
   "outputs": [
    {
     "name": "stdout",
     "output_type": "stream",
     "text": [
      " * sqlite:///TMDB.db\n",
      "Done.\n"
     ]
    },
    {
     "data": {
      "text/html": [
       "<table>\n",
       "    <thead>\n",
       "        <tr>\n",
       "            <th>movie_id</th>\n",
       "            <th>title</th>\n",
       "            <th>release_date</th>\n",
       "            <th>budget</th>\n",
       "            <th>homepage</th>\n",
       "            <th>original_language</th>\n",
       "            <th>original_title</th>\n",
       "            <th>overview</th>\n",
       "            <th>popularity</th>\n",
       "            <th>revenue</th>\n",
       "            <th>runtime</th>\n",
       "            <th>release_status</th>\n",
       "            <th>tagline</th>\n",
       "            <th>vote_average</th>\n",
       "            <th>vote_count</th>\n",
       "        </tr>\n",
       "    </thead>\n",
       "    <tbody>\n",
       "        <tr>\n",
       "            <td>5</td>\n",
       "            <td>Four Rooms</td>\n",
       "            <td>1995-12-09 00:00:00.000000</td>\n",
       "            <td>4000000</td>\n",
       "            <td>None</td>\n",
       "            <td>en</td>\n",
       "            <td>Four Rooms</td>\n",
       "            <td>It&#x27;s Ted the Bellhop&#x27;s first night on the job...and the hotel&#x27;s very unusual guests are about to place him in some outrageous predicaments. It seems that this evening&#x27;s room service is serving up one unbelievable happening after another.</td>\n",
       "            <td>22.87623</td>\n",
       "            <td>4300000.0</td>\n",
       "            <td>98.0</td>\n",
       "            <td>Released</td>\n",
       "            <td>Twelve outrageous guests. Four scandalous requests. And one lone bellhop, in his first day on the job, who&#x27;s in for the wildest New year&#x27;s Eve of his life.</td>\n",
       "            <td>6.5</td>\n",
       "            <td>530</td>\n",
       "        </tr>\n",
       "        <tr>\n",
       "            <td>11</td>\n",
       "            <td>Star Wars</td>\n",
       "            <td>1977-05-25 00:00:00.000000</td>\n",
       "            <td>11000000</td>\n",
       "            <td>http://www.starwars.com/films/star-wars-episode-iv-a-new-hope</td>\n",
       "            <td>en</td>\n",
       "            <td>Star Wars</td>\n",
       "            <td>Princess Leia is captured and held hostage by the evil Imperial forces in their effort to take over the galactic Empire. Venturesome Luke Skywalker and dashing captain Han Solo team together with the loveable robot duo R2-D2 and C-3PO to rescue the beautiful princess and restore peace and justice in the Empire.</td>\n",
       "            <td>126.393695</td>\n",
       "            <td>775398007.0</td>\n",
       "            <td>121.0</td>\n",
       "            <td>Released</td>\n",
       "            <td>A long time ago in a galaxy far, far away...</td>\n",
       "            <td>8.1</td>\n",
       "            <td>6624</td>\n",
       "        </tr>\n",
       "        <tr>\n",
       "            <td>12</td>\n",
       "            <td>Finding Nemo</td>\n",
       "            <td>2003-05-30 00:00:00.000000</td>\n",
       "            <td>94000000</td>\n",
       "            <td>http://movies.disney.com/finding-nemo</td>\n",
       "            <td>en</td>\n",
       "            <td>Finding Nemo</td>\n",
       "            <td>Nemo, an adventurous young clownfish, is unexpectedly taken from his Great Barrier Reef home to a dentist&#x27;s office aquarium. It&#x27;s up to his worrisome father Marlin and a friendly but forgetful fish Dory to bring Nemo home -- meeting vegetarian sharks, surfer dude turtles, hypnotic jellyfish, hungry seagulls, and more along the way.</td>\n",
       "            <td>85.688789</td>\n",
       "            <td>940335536.0</td>\n",
       "            <td>100.0</td>\n",
       "            <td>Released</td>\n",
       "            <td>There are 3.7 trillion fish in the ocean, they&#x27;re looking for one.</td>\n",
       "            <td>7.6</td>\n",
       "            <td>6122</td>\n",
       "        </tr>\n",
       "        <tr>\n",
       "            <td>13</td>\n",
       "            <td>Forrest Gump</td>\n",
       "            <td>1994-07-06 00:00:00.000000</td>\n",
       "            <td>55000000</td>\n",
       "            <td>None</td>\n",
       "            <td>en</td>\n",
       "            <td>Forrest Gump</td>\n",
       "            <td>A man with a low IQ has accomplished great things in his life and been present during significant historic events - in each case, far exceeding what anyone imagined he could do. Yet, despite all the things he has attained, his one true love eludes him. &#x27;Forrest Gump&#x27; is the story of a man who rose above his challenges, and who proved that determination, courage, and love are more important than ability.</td>\n",
       "            <td>138.133331</td>\n",
       "            <td>677945399.0</td>\n",
       "            <td>142.0</td>\n",
       "            <td>Released</td>\n",
       "            <td>The world will never be the same, once you&#x27;ve seen it through the eyes of Forrest Gump.</td>\n",
       "            <td>8.2</td>\n",
       "            <td>7927</td>\n",
       "        </tr>\n",
       "        <tr>\n",
       "            <td>14</td>\n",
       "            <td>American Beauty</td>\n",
       "            <td>1999-09-15 00:00:00.000000</td>\n",
       "            <td>15000000</td>\n",
       "            <td>http://www.dreamworks.com/ab/</td>\n",
       "            <td>en</td>\n",
       "            <td>American Beauty</td>\n",
       "            <td>Lester Burnham, a depressed suburban father in a mid-life crisis, decides to turn his hectic life around after developing an infatuation with his daughter&#x27;s attractive friend.</td>\n",
       "            <td>80.878605</td>\n",
       "            <td>356296601.0</td>\n",
       "            <td>122.0</td>\n",
       "            <td>Released</td>\n",
       "            <td>Look closer.</td>\n",
       "            <td>7.9</td>\n",
       "            <td>3313</td>\n",
       "        </tr>\n",
       "        <tr>\n",
       "            <td>16</td>\n",
       "            <td>Dancer in the Dark</td>\n",
       "            <td>2000-05-17 00:00:00.000000</td>\n",
       "            <td>12800000</td>\n",
       "            <td>None</td>\n",
       "            <td>en</td>\n",
       "            <td>Dancer in the Dark</td>\n",
       "            <td>Selma, a Czech immigrant on the verge of blindness, struggles to make ends meet for herself and her son, who has inherited the same genetic disorder and will suffer the same fate without an expensive operation. When life gets too difficult, Selma learns to cope through her love of musicals, escaping life&#x27;s troubles - even if just for a moment - by dreaming up little numbers to the rhythmic beats of her surroundings.</td>\n",
       "            <td>22.022228</td>\n",
       "            <td>40031879.0</td>\n",
       "            <td>140.0</td>\n",
       "            <td>Released</td>\n",
       "            <td>You don&#x27;t need eyes to see.</td>\n",
       "            <td>7.6</td>\n",
       "            <td>377</td>\n",
       "        </tr>\n",
       "        <tr>\n",
       "            <td>18</td>\n",
       "            <td>The Fifth Element</td>\n",
       "            <td>1997-05-07 00:00:00.000000</td>\n",
       "            <td>90000000</td>\n",
       "            <td>None</td>\n",
       "            <td>en</td>\n",
       "            <td>The Fifth Element</td>\n",
       "            <td>In 2257, a taxi driver is unintentionally given the task of saving a young girl who is part of the key that will ensure the survival of humanity.</td>\n",
       "            <td>109.528572</td>\n",
       "            <td>263920180.0</td>\n",
       "            <td>126.0</td>\n",
       "            <td>Released</td>\n",
       "            <td>There is no future without it.</td>\n",
       "            <td>7.3</td>\n",
       "            <td>3885</td>\n",
       "        </tr>\n",
       "        <tr>\n",
       "            <td>19</td>\n",
       "            <td>Metropolis</td>\n",
       "            <td>1927-01-10 00:00:00.000000</td>\n",
       "            <td>92620000</td>\n",
       "            <td>None</td>\n",
       "            <td>de</td>\n",
       "            <td>Metropolis</td>\n",
       "            <td>In a futuristic city sharply divided between the working class and the city planners, the son of the city&#x27;s mastermind falls in love with a working class prophet who predicts the coming of a savior to mediate their differences.</td>\n",
       "            <td>32.351527</td>\n",
       "            <td>650422.0</td>\n",
       "            <td>153.0</td>\n",
       "            <td>Released</td>\n",
       "            <td>There can be no understanding between the hands and the brain unless the heart acts as mediator.</td>\n",
       "            <td>8.0</td>\n",
       "            <td>657</td>\n",
       "        </tr>\n",
       "        <tr>\n",
       "            <td>20</td>\n",
       "            <td>My Life Without Me</td>\n",
       "            <td>2003-03-07 00:00:00.000000</td>\n",
       "            <td>0</td>\n",
       "            <td>http://www.clubcultura.com/clubcine/clubcineastas/isabelcoixet/mividasinmi/index.htm</td>\n",
       "            <td>en</td>\n",
       "            <td>My Life Without Me</td>\n",
       "            <td>A Pedro Almodovar production in which a fatally ill mother with only two months to live creates a list of things she wants to do before she dies with out telling her family of her illness.</td>\n",
       "            <td>7.958831</td>\n",
       "            <td>9726954.0</td>\n",
       "            <td>106.0</td>\n",
       "            <td>Released</td>\n",
       "            <td>None</td>\n",
       "            <td>7.2</td>\n",
       "            <td>77</td>\n",
       "        </tr>\n",
       "        <tr>\n",
       "            <td>22</td>\n",
       "            <td>Pirates of the Caribbean: The Curse of the Black Pearl</td>\n",
       "            <td>2003-07-09 00:00:00.000000</td>\n",
       "            <td>140000000</td>\n",
       "            <td>http://disney.go.com/disneyvideos/liveaction/pirates/main_site/main.html</td>\n",
       "            <td>en</td>\n",
       "            <td>Pirates of the Caribbean: The Curse of the Black Pearl</td>\n",
       "            <td>Jack Sparrow, a freewheeling 17th-century pirate who roams the Caribbean Sea, butts heads with a rival pirate bent on pillaging the village of Port Royal. When the governor&#x27;s daughter is kidnapped, Sparrow decides to help the girl&#x27;s love save her. But their seafaring mission is hardly simple.</td>\n",
       "            <td>271.972889</td>\n",
       "            <td>655011224.0</td>\n",
       "            <td>143.0</td>\n",
       "            <td>Released</td>\n",
       "            <td>Prepare to be blown out of the water.</td>\n",
       "            <td>7.5</td>\n",
       "            <td>6985</td>\n",
       "        </tr>\n",
       "    </tbody>\n",
       "</table>"
      ],
      "text/plain": [
       "[(5, 'Four Rooms', '1995-12-09 00:00:00.000000', 4000000, None, 'en', 'Four Rooms', \"It's Ted the Bellhop's first night on the job...and the hotel's very unusual guests are about to place him in some outrageous predicaments. It seems that this evening's room service is serving up one unbelievable happening after another.\", 22.87623, 4300000.0, 98.0, 'Released', \"Twelve outrageous guests. Four scandalous requests. And one lone bellhop, in his first day on the job, who's in for the wildest New year's Eve of his life.\", 6.5, 530),\n",
       " (11, 'Star Wars', '1977-05-25 00:00:00.000000', 11000000, 'http://www.starwars.com/films/star-wars-episode-iv-a-new-hope', 'en', 'Star Wars', 'Princess Leia is captured and held hostage by the evil Imperial forces in their effort to take over the galactic Empire. Venturesome Luke Skywalker a ... (14 characters truncated) ... tain Han Solo team together with the loveable robot duo R2-D2 and C-3PO to rescue the beautiful princess and restore peace and justice in the Empire.', 126.393695, 775398007.0, 121.0, 'Released', 'A long time ago in a galaxy far, far away...', 8.1, 6624),\n",
       " (12, 'Finding Nemo', '2003-05-30 00:00:00.000000', 94000000, 'http://movies.disney.com/finding-nemo', 'en', 'Finding Nemo', \"Nemo, an adventurous young clownfish, is unexpectedly taken from his Great Barrier Reef home to a dentist's office aquarium. It's up to his worrisome ... (35 characters truncated) ... orgetful fish Dory to bring Nemo home -- meeting vegetarian sharks, surfer dude turtles, hypnotic jellyfish, hungry seagulls, and more along the way.\", 85.688789, 940335536.0, 100.0, 'Released', \"There are 3.7 trillion fish in the ocean, they're looking for one.\", 7.6, 6122),\n",
       " (13, 'Forrest Gump', '1994-07-06 00:00:00.000000', 55000000, None, 'en', 'Forrest Gump', \"A man with a low IQ has accomplished great things in his life and been present during significant historic events - in each case, far exceeding what  ... (108 characters truncated) ... rest Gump' is the story of a man who rose above his challenges, and who proved that determination, courage, and love are more important than ability.\", 138.133331, 677945399.0, 142.0, 'Released', \"The world will never be the same, once you've seen it through the eyes of Forrest Gump.\", 8.2, 7927),\n",
       " (14, 'American Beauty', '1999-09-15 00:00:00.000000', 15000000, 'http://www.dreamworks.com/ab/', 'en', 'American Beauty', \"Lester Burnham, a depressed suburban father in a mid-life crisis, decides to turn his hectic life around after developing an infatuation with his daughter's attractive friend.\", 80.878605, 356296601.0, 122.0, 'Released', 'Look closer.', 7.9, 3313),\n",
       " (16, 'Dancer in the Dark', '2000-05-17 00:00:00.000000', 12800000, None, 'en', 'Dancer in the Dark', \"Selma, a Czech immigrant on the verge of blindness, struggles to make ends meet for herself and her son, who has inherited the same genetic disorder  ... (121 characters truncated) ... her love of musicals, escaping life's troubles - even if just for a moment - by dreaming up little numbers to the rhythmic beats of her surroundings.\", 22.022228, 40031879.0, 140.0, 'Released', \"You don't need eyes to see.\", 7.6, 377),\n",
       " (18, 'The Fifth Element', '1997-05-07 00:00:00.000000', 90000000, None, 'en', 'The Fifth Element', 'In 2257, a taxi driver is unintentionally given the task of saving a young girl who is part of the key that will ensure the survival of humanity.', 109.528572, 263920180.0, 126.0, 'Released', 'There is no future without it.', 7.3, 3885),\n",
       " (19, 'Metropolis', '1927-01-10 00:00:00.000000', 92620000, None, 'de', 'Metropolis', \"In a futuristic city sharply divided between the working class and the city planners, the son of the city's mastermind falls in love with a working class prophet who predicts the coming of a savior to mediate their differences.\", 32.351527, 650422.0, 153.0, 'Released', 'There can be no understanding between the hands and the brain unless the heart acts as mediator.', 8.0, 657),\n",
       " (20, 'My Life Without Me', '2003-03-07 00:00:00.000000', 0, 'http://www.clubcultura.com/clubcine/clubcineastas/isabelcoixet/mividasinmi/index.htm', 'en', 'My Life Without Me', 'A Pedro Almodovar production in which a fatally ill mother with only two months to live creates a list of things she wants to do before she dies with out telling her family of her illness.', 7.958831, 9726954.0, 106.0, 'Released', None, 7.2, 77),\n",
       " (22, 'Pirates of the Caribbean: The Curse of the Black Pearl', '2003-07-09 00:00:00.000000', 140000000, 'http://disney.go.com/disneyvideos/liveaction/pirates/main_site/main.html', 'en', 'Pirates of the Caribbean: The Curse of the Black Pearl', \"Jack Sparrow, a freewheeling 17th-century pirate who roams the Caribbean Sea, butts heads with a rival pirate bent on pillaging the village of Port Royal. When the governor's daughter is kidnapped, Sparrow decides to help the girl's love save her. But their seafaring mission is hardly simple.\", 271.972889, 655011224.0, 143.0, 'Released', 'Prepare to be blown out of the water.', 7.5, 6985)]"
      ]
     },
     "execution_count": 5,
     "metadata": {},
     "output_type": "execute_result"
    }
   ],
   "source": [
    "%%sql\n",
    "SELECT *FROM \n",
    "Movies\n",
    "LIMIT 10"
   ]
  },
  {
   "cell_type": "code",
   "execution_count": 3,
   "id": "5544a274",
   "metadata": {},
   "outputs": [
    {
     "name": "stdout",
     "output_type": "stream",
     "text": [
      " * sqlite:///TMDB.db\n",
      "(sqlite3.OperationalError) view Not_Released already exists\n",
      "[SQL: CREATE VIEW Not_Released AS \n",
      "                    SELECT * \n",
      "                    FROM movies \n",
      "                    WHERE\n",
      "                    release_status <> 'Released']\n",
      "(Background on this error at: https://sqlalche.me/e/20/e3q8)\n"
     ]
    }
   ],
   "source": [
    "%%sql\n",
    "CREATE VIEW Not_Released AS \n",
    "                    SELECT * \n",
    "                    FROM movies \n",
    "                    WHERE\n",
    "                    release_status <> 'Released'"
   ]
  },
  {
   "cell_type": "code",
   "execution_count": 4,
   "id": "00fc9909",
   "metadata": {},
   "outputs": [
    {
     "name": "stdout",
     "output_type": "stream",
     "text": [
      " * sqlite:///TMDB.db\n",
      "Done.\n"
     ]
    },
    {
     "data": {
      "text/html": [
       "<table>\n",
       "    <thead>\n",
       "        <tr>\n",
       "            <th>title</th>\n",
       "            <th>release_date</th>\n",
       "            <th>release_status</th>\n",
       "        </tr>\n",
       "    </thead>\n",
       "    <tbody>\n",
       "        <tr>\n",
       "            <td>Little Big Top</td>\n",
       "            <td>2006-01-01 00:00:00.000000</td>\n",
       "            <td>Rumored</td>\n",
       "        </tr>\n",
       "        <tr>\n",
       "            <td>The Helix... Loaded</td>\n",
       "            <td>2005-01-01 00:00:00.000000</td>\n",
       "            <td>Rumored</td>\n",
       "        </tr>\n",
       "    </tbody>\n",
       "</table>"
      ],
      "text/plain": [
       "[('Little Big Top', '2006-01-01 00:00:00.000000', 'Rumored'),\n",
       " ('The Helix... Loaded', '2005-01-01 00:00:00.000000', 'Rumored')]"
      ]
     },
     "execution_count": 4,
     "metadata": {},
     "output_type": "execute_result"
    }
   ],
   "source": [
    "%%sql\n",
    "SELECT title, release_date, release_status\n",
    "FROM Not_Released\n",
    "LIMIT 2"
   ]
  },
  {
   "cell_type": "markdown",
   "id": "1a8373e0-9e09-4ed9-922d-5565cef4b834",
   "metadata": {},
   "source": [
    "%%sql\n",
    "--How many movies exist that no longer use their original titles? (2 marks)\n",
    "SELECT*\n",
    "FROM\n",
    "Movies\n",
    "INNER JOIN \n",
    "LanguageMap AS lm\n",
    "ON lm.movie_id  =Movies.movie_id\n",
    "INNER JOIN Languages AS L\n",
    "ON L.iso_639_1 = lm.iso_639_1 \n",
    "limit 10"
   ]
  },
  {
   "cell_type": "markdown",
   "id": "b851ca5f-6879-4de4-a8ab-18174b71f15c",
   "metadata": {},
   "source": [
    "## What is the most popular movie that was made after 01/01/2000 with a budget of\n",
    "## more than $100 000 000? (Hint: Use the popularity field in the Movies table. Larger numbers are more popular."
   ]
  },
  {
   "cell_type": "markdown",
   "id": "e0fc8418-4978-426b-a9f8-63c2d23f4d09",
   "metadata": {},
   "source": [
    "%%sql\n",
    "SELECT\n",
    "    COUNT(*) AS m_count,\n",
    "    popularity,\n",
    "    budget,\n",
    "    title,\n",
    "    release_date\n",
    "FROM\n",
    "    movies\n",
    "WHERE \n",
    "    release_date >'01/01/2000'\n",
    "    AND budget > 100000000\n",
    "GROUP BY\n",
    "    popularity, budget, title, release_date\n",
    "ORDER BY\n",
    "       popularity DESC\n",
    "      \n",
    ";"
   ]
  },
  {
   "cell_type": "markdown",
   "id": "3a0a9766-6ce0-462b-884e-0f4480582db6",
   "metadata": {},
   "source": [
    "### How many movies do not have English as their original language? "
   ]
  },
  {
   "cell_type": "code",
   "execution_count": 25,
   "id": "fa239fc6-f102-4ffa-bc91-03204dd91925",
   "metadata": {},
   "outputs": [
    {
     "name": "stdout",
     "output_type": "stream",
     "text": [
      " * sqlite:///TMDB.db\n",
      "Done.\n"
     ]
    },
    {
     "data": {
      "text/html": [
       "<table>\n",
       "    <thead>\n",
       "        <tr>\n",
       "            <th>COUNT(*)</th>\n",
       "        </tr>\n",
       "    </thead>\n",
       "    <tbody>\n",
       "        <tr>\n",
       "            <td>298</td>\n",
       "        </tr>\n",
       "    </tbody>\n",
       "</table>"
      ],
      "text/plain": [
       "[(298,)]"
      ]
     },
     "execution_count": 25,
     "metadata": {},
     "output_type": "execute_result"
    }
   ],
   "source": [
    "%%sql\n",
    "SELECT\n",
    "COUNT(*)\n",
    "FROM \n",
    "Movies\n",
    "WHERE \n",
    "original_language != 'en'\n",
    "LIMIT 10"
   ]
  },
  {
   "cell_type": "markdown",
   "id": "97da5e79-430b-481e-ae7f-a3b88cfdd33c",
   "metadata": {},
   "source": [
    "### How many movies in the database were produced by Pixar Animation Studios? "
   ]
  },
  {
   "cell_type": "code",
   "execution_count": 34,
   "id": "16a43842-fe2a-4987-86fb-d312cd5a785b",
   "metadata": {},
   "outputs": [
    {
     "name": "stdout",
     "output_type": "stream",
     "text": [
      " * sqlite:///TMDB.db\n",
      "Done.\n"
     ]
    },
    {
     "data": {
      "text/html": [
       "<table>\n",
       "    <thead>\n",
       "        <tr>\n",
       "            <th>count(*)</th>\n",
       "        </tr>\n",
       "    </thead>\n",
       "    <tbody>\n",
       "        <tr>\n",
       "            <td>16</td>\n",
       "        </tr>\n",
       "    </tbody>\n",
       "</table>"
      ],
      "text/plain": [
       "[(16,)]"
      ]
     },
     "execution_count": 34,
     "metadata": {},
     "output_type": "execute_result"
    }
   ],
   "source": [
    "%%sql\n",
    "SELECT\n",
    "count(*)\n",
    "FROM \n",
    "Movies\n",
    "JOIN\n",
    "ProductionCompanyMap as pc\n",
    "ON Movies.movie_id = pc.movie_id\n",
    "JOIN \n",
    "ProductionCompanies as p\n",
    "ON p.production_company_id =pc.production_company_id\n",
    "WHERE \n",
    "production_company_name = 'Pixar Animation Studios'\n",
    "LIMIT 2"
   ]
  },
  {
   "cell_type": "code",
   "execution_count": 42,
   "id": "7368a0a3-51f8-4d72-8263-87c270095a05",
   "metadata": {},
   "outputs": [
    {
     "name": "stdout",
     "output_type": "stream",
     "text": [
      " * sqlite:///TMDB.db\n",
      "Done.\n"
     ]
    },
    {
     "data": {
      "text/html": [
       "<table>\n",
       "    <thead>\n",
       "        <tr>\n",
       "            <th>genre_id</th>\n",
       "            <th>genre_name</th>\n",
       "        </tr>\n",
       "    </thead>\n",
       "    <tbody>\n",
       "        <tr>\n",
       "            <td>12</td>\n",
       "            <td>Adventure</td>\n",
       "        </tr>\n",
       "        <tr>\n",
       "            <td>14</td>\n",
       "            <td>Fantasy</td>\n",
       "        </tr>\n",
       "        <tr>\n",
       "            <td>16</td>\n",
       "            <td>Animation</td>\n",
       "        </tr>\n",
       "        <tr>\n",
       "            <td>18</td>\n",
       "            <td>Drama</td>\n",
       "        </tr>\n",
       "        <tr>\n",
       "            <td>27</td>\n",
       "            <td>Horror</td>\n",
       "        </tr>\n",
       "        <tr>\n",
       "            <td>28</td>\n",
       "            <td>Action</td>\n",
       "        </tr>\n",
       "        <tr>\n",
       "            <td>35</td>\n",
       "            <td>Comedy</td>\n",
       "        </tr>\n",
       "        <tr>\n",
       "            <td>36</td>\n",
       "            <td>History</td>\n",
       "        </tr>\n",
       "        <tr>\n",
       "            <td>37</td>\n",
       "            <td>Western</td>\n",
       "        </tr>\n",
       "        <tr>\n",
       "            <td>53</td>\n",
       "            <td>Thriller</td>\n",
       "        </tr>\n",
       "        <tr>\n",
       "            <td>80</td>\n",
       "            <td>Crime</td>\n",
       "        </tr>\n",
       "        <tr>\n",
       "            <td>99</td>\n",
       "            <td>Documentary</td>\n",
       "        </tr>\n",
       "        <tr>\n",
       "            <td>878</td>\n",
       "            <td>Science Fiction</td>\n",
       "        </tr>\n",
       "        <tr>\n",
       "            <td>9648</td>\n",
       "            <td>Mystery</td>\n",
       "        </tr>\n",
       "        <tr>\n",
       "            <td>10402</td>\n",
       "            <td>Music</td>\n",
       "        </tr>\n",
       "        <tr>\n",
       "            <td>10749</td>\n",
       "            <td>Romance</td>\n",
       "        </tr>\n",
       "        <tr>\n",
       "            <td>10751</td>\n",
       "            <td>Family</td>\n",
       "        </tr>\n",
       "        <tr>\n",
       "            <td>10752</td>\n",
       "            <td>War</td>\n",
       "        </tr>\n",
       "        <tr>\n",
       "            <td>10769</td>\n",
       "            <td>Foreign</td>\n",
       "        </tr>\n",
       "        <tr>\n",
       "            <td>10770</td>\n",
       "            <td>TV Movie</td>\n",
       "        </tr>\n",
       "    </tbody>\n",
       "</table>"
      ],
      "text/plain": [
       "[(12, 'Adventure'),\n",
       " (14, 'Fantasy'),\n",
       " (16, 'Animation'),\n",
       " (18, 'Drama'),\n",
       " (27, 'Horror'),\n",
       " (28, 'Action'),\n",
       " (35, 'Comedy'),\n",
       " (36, 'History'),\n",
       " (37, 'Western'),\n",
       " (53, 'Thriller'),\n",
       " (80, 'Crime'),\n",
       " (99, 'Documentary'),\n",
       " (878, 'Science Fiction'),\n",
       " (9648, 'Mystery'),\n",
       " (10402, 'Music'),\n",
       " (10749, 'Romance'),\n",
       " (10751, 'Family'),\n",
       " (10752, 'War'),\n",
       " (10769, 'Foreign'),\n",
       " (10770, 'TV Movie')]"
      ]
     },
     "execution_count": 42,
     "metadata": {},
     "output_type": "execute_result"
    }
   ],
   "source": [
    "%%sql\n",
    "SELECT \n",
    "*\n",
    "FROM Genres\n",
    "Limit 100"
   ]
  },
  {
   "cell_type": "markdown",
   "id": "95c2cfcf-3cab-482b-8214-f5e46e291bfd",
   "metadata": {},
   "source": [
    "### How many movies are in the database that are both a Romance and a Comedy?\n"
   ]
  },
  {
   "cell_type": "code",
   "execution_count": 52,
   "id": "0001870c-d43b-4fd4-881b-2dcd5d0e380e",
   "metadata": {},
   "outputs": [
    {
     "name": "stdout",
     "output_type": "stream",
     "text": [
      " * sqlite:///TMDB.db\n",
      "Done.\n"
     ]
    },
    {
     "data": {
      "text/html": [
       "<table>\n",
       "    <thead>\n",
       "        <tr>\n",
       "            <th>COUNT(*)</th>\n",
       "        </tr>\n",
       "    </thead>\n",
       "    <tbody>\n",
       "        <tr>\n",
       "            <td>484</td>\n",
       "        </tr>\n",
       "    </tbody>\n",
       "</table>"
      ],
      "text/plain": [
       "[(484,)]"
      ]
     },
     "execution_count": 52,
     "metadata": {},
     "output_type": "execute_result"
    }
   ],
   "source": [
    "%%sql\n",
    "SELECT \n",
    "    COUNT(*)\n",
    "FROM (\n",
    "    SELECT \n",
    "        Movies.movie_id\n",
    "    FROM\n",
    "        Movies\n",
    "    JOIN \n",
    "        GenreMap ON GenreMap.movie_id = Movies.movie_id\n",
    "    JOIN\n",
    "        Genres ON Genres.genre_id = GenreMap.genre_id\n",
    "    WHERE \n",
    "        Genres.genre_name IN('Romance', 'Comedy')\n",
    "    GROUP BY \n",
    "        Movies.movie_id\n",
    "    HAVING \n",
    "        COUNT(DISTINCT Genres.genre_name) = 2\n",
    ") AS BothGenres;\n",
    "\n"
   ]
  },
  {
   "cell_type": "markdown",
   "id": "447bb3c1-88ac-4664-a9c6-5680e97433f8",
   "metadata": {},
   "source": [
    "## What is the most popular action movie that has some German in it? (Hint: The German word for German is Deutsch) "
   ]
  },
  {
   "cell_type": "code",
   "execution_count": 72,
   "id": "9004bdfc-de7a-4d5f-a584-486c2796a630",
   "metadata": {},
   "outputs": [
    {
     "name": "stdout",
     "output_type": "stream",
     "text": [
      " * sqlite:///TMDB.db\n",
      "Done.\n"
     ]
    },
    {
     "data": {
      "text/html": [
       "<table>\n",
       "    <thead>\n",
       "        <tr>\n",
       "            <th>movie_id</th>\n",
       "            <th>title</th>\n",
       "            <th>popularity</th>\n",
       "        </tr>\n",
       "    </thead>\n",
       "    <tbody>\n",
       "    </tbody>\n",
       "</table>"
      ],
      "text/plain": [
       "[]"
      ]
     },
     "execution_count": 72,
     "metadata": {},
     "output_type": "execute_result"
    }
   ],
   "source": [
    "%%sql\n",
    "SELECT \n",
    "    Movies.movie_id,\n",
    "    Movies.title,\n",
    "    Movies.popularity\n",
    "FROM\n",
    "    Movies\n",
    "JOIN \n",
    "    GenreMap ON GenreMap.movie_id = Movies.movie_id\n",
    "JOIN\n",
    "    Genres ON Genres.genre_id = GenreMap.genre_id\n",
    "WHERE \n",
    "    Genres.genre_name = 'Action'\n",
    "    AND Movies.original_language LIKE 'Deutsch'\n",
    "ORDER BY \n",
    "    Movies.popularity DESC\n",
    "\n",
    ";\n",
    " "
   ]
  },
  {
   "cell_type": "markdown",
   "id": "290087fe-3437-43c4-b704-73dd7a3b2277",
   "metadata": {},
   "source": [
    "### In how many movies did Tom Cruise portray the character Ethan Hunt? "
   ]
  },
  {
   "cell_type": "code",
   "execution_count": 81,
   "id": "929c1142-8b47-4988-bcd6-d47719b5390f",
   "metadata": {},
   "outputs": [
    {
     "name": "stdout",
     "output_type": "stream",
     "text": [
      " * sqlite:///TMDB.db\n",
      "Done.\n"
     ]
    },
    {
     "data": {
      "text/html": [
       "<table>\n",
       "    <thead>\n",
       "        <tr>\n",
       "            <th>COUNT(*)</th>\n",
       "        </tr>\n",
       "    </thead>\n",
       "    <tbody>\n",
       "        <tr>\n",
       "            <td>5</td>\n",
       "        </tr>\n",
       "    </tbody>\n",
       "</table>"
      ],
      "text/plain": [
       "[(5,)]"
      ]
     },
     "execution_count": 81,
     "metadata": {},
     "output_type": "execute_result"
    }
   ],
   "source": [
    "%%sql\n",
    "SELECT\n",
    "COUNT(*)\n",
    "FROM \n",
    "Movies AS M\n",
    "JOIN\n",
    "Casts AS C\n",
    "on M.movie_id = C.movie_id\n",
    "JOIN\n",
    "Actors AS A\n",
    "ON \n",
    "A.actor_id = C.actor_id\n",
    "WHERE actor_name = 'Tom Cruise' AND C.characters = 'Ethan Hunt'\n",
    "LIMIT 3"
   ]
  },
  {
   "cell_type": "markdown",
   "id": "c9887825-b4be-425d-ba50-55e5b6e53339",
   "metadata": {},
   "source": [
    "### How many times was the actress Cate Blanchett nominated for an Oscar? "
   ]
  },
  {
   "cell_type": "code",
   "execution_count": 87,
   "id": "62f283da-7bfa-49a0-93b7-4dc8f1a3a217",
   "metadata": {},
   "outputs": [
    {
     "name": "stdout",
     "output_type": "stream",
     "text": [
      " * sqlite:///TMDB.db\n",
      "Done.\n"
     ]
    },
    {
     "data": {
      "text/html": [
       "<table>\n",
       "    <thead>\n",
       "        <tr>\n",
       "            <th>nominee_count</th>\n",
       "        </tr>\n",
       "    </thead>\n",
       "    <tbody>\n",
       "        <tr>\n",
       "            <td>7</td>\n",
       "        </tr>\n",
       "    </tbody>\n",
       "</table>"
      ],
      "text/plain": [
       "[(7,)]"
      ]
     },
     "execution_count": 87,
     "metadata": {},
     "output_type": "execute_result"
    }
   ],
   "source": [
    "%%sql\n",
    "SELECT\n",
    "    COUNT(s.actor_name) AS nominee_count\n",
    "FROM\n",
    "    Oscars AS o\n",
    "JOIN\n",
    "    actors AS s ON o.name = s.actor_name\n",
    "WHERE \n",
    "    s.actor_name = 'Cate Blanchett'\n",
    "\n",
    ";"
   ]
  },
  {
   "cell_type": "markdown",
   "id": "eb92c1a8-7f31-4a59-bc21-bdfa20b0c83d",
   "metadata": {},
   "source": [
    "### How many movies contains at least one of the official South African Languages, Afrikaans or Zulu? "
   ]
  },
  {
   "cell_type": "code",
   "execution_count": 91,
   "id": "a99bb372-7ecc-4859-b001-be7b8bcab479",
   "metadata": {},
   "outputs": [
    {
     "name": "stdout",
     "output_type": "stream",
     "text": [
      " * sqlite:///TMDB.db\n",
      "Done.\n"
     ]
    },
    {
     "data": {
      "text/html": [
       "<table>\n",
       "    <thead>\n",
       "        <tr>\n",
       "            <th>COUNT(*)</th>\n",
       "        </tr>\n",
       "    </thead>\n",
       "    <tbody>\n",
       "        <tr>\n",
       "            <td>1</td>\n",
       "        </tr>\n",
       "    </tbody>\n",
       "</table>"
      ],
      "text/plain": [
       "[(1,)]"
      ]
     },
     "execution_count": 91,
     "metadata": {},
     "output_type": "execute_result"
    }
   ],
   "source": [
    "%%sql\n",
    "SELECT \n",
    "COUNT(*)\n",
    "FROM Movies\n",
    "WHERE \n",
    "original_language IN ('af')\n"
   ]
  },
  {
   "cell_type": "code",
   "execution_count": 90,
   "id": "42e12071-51e6-432c-aef9-affbb10f9e5f",
   "metadata": {},
   "outputs": [
    {
     "name": "stdout",
     "output_type": "stream",
     "text": [
      " * sqlite:///TMDB.db\n",
      "Done.\n"
     ]
    },
    {
     "data": {
      "text/html": [
       "<table>\n",
       "    <thead>\n",
       "        <tr>\n",
       "            <th>original_language</th>\n",
       "        </tr>\n",
       "    </thead>\n",
       "    <tbody>\n",
       "    </tbody>\n",
       "</table>"
      ],
      "text/plain": [
       "[]"
      ]
     },
     "execution_count": 90,
     "metadata": {},
     "output_type": "execute_result"
    }
   ],
   "source": [
    "%%sql\n",
    "SELECT \n",
    "original_language\n",
    "FROM Movies\n",
    "where\n",
    "original_language ='zu'\n",
    "limit 400"
   ]
  },
  {
   "cell_type": "markdown",
   "id": "76eb6edf-bf64-4e51-9094-6117703d4d05",
   "metadata": {},
   "source": [
    "## Which of the movies mentioned above is the most popular?"
   ]
  },
  {
   "cell_type": "code",
   "execution_count": 101,
   "id": "fb3e21bc-62f4-416e-b43c-463ef43d22ae",
   "metadata": {},
   "outputs": [
    {
     "name": "stdout",
     "output_type": "stream",
     "text": [
      " * sqlite:///TMDB.db\n",
      "Done.\n"
     ]
    },
    {
     "data": {
      "text/html": [
       "<table>\n",
       "    <thead>\n",
       "        <tr>\n",
       "            <th>movie_id</th>\n",
       "            <th>title</th>\n",
       "            <th>genre_name</th>\n",
       "            <th>popularity</th>\n",
       "        </tr>\n",
       "    </thead>\n",
       "    <tbody>\n",
       "        <tr>\n",
       "            <td>17654</td>\n",
       "            <td>District 9</td>\n",
       "            <td>Science Fiction</td>\n",
       "            <td>63.13678</td>\n",
       "        </tr>\n",
       "        <tr>\n",
       "            <td>1372</td>\n",
       "            <td>Blood Diamond</td>\n",
       "            <td>Drama</td>\n",
       "            <td>52.792678</td>\n",
       "        </tr>\n",
       "        <tr>\n",
       "            <td>1372</td>\n",
       "            <td>Blood Diamond</td>\n",
       "            <td>Action</td>\n",
       "            <td>52.792678</td>\n",
       "        </tr>\n",
       "        <tr>\n",
       "            <td>1372</td>\n",
       "            <td>Blood Diamond</td>\n",
       "            <td>Thriller</td>\n",
       "            <td>52.792678</td>\n",
       "        </tr>\n",
       "        <tr>\n",
       "            <td>868</td>\n",
       "            <td>Tsotsi</td>\n",
       "            <td>Drama</td>\n",
       "            <td>2.504169</td>\n",
       "        </tr>\n",
       "        <tr>\n",
       "            <td>868</td>\n",
       "            <td>Tsotsi</td>\n",
       "            <td>Crime</td>\n",
       "            <td>2.504169</td>\n",
       "        </tr>\n",
       "        <tr>\n",
       "            <td>22600</td>\n",
       "            <td>Gangster&#x27;s Paradise: Jerusalema</td>\n",
       "            <td>Drama</td>\n",
       "            <td>1.717376</td>\n",
       "        </tr>\n",
       "        <tr>\n",
       "            <td>22600</td>\n",
       "            <td>Gangster&#x27;s Paradise: Jerusalema</td>\n",
       "            <td>Action</td>\n",
       "            <td>1.717376</td>\n",
       "        </tr>\n",
       "        <tr>\n",
       "            <td>22600</td>\n",
       "            <td>Gangster&#x27;s Paradise: Jerusalema</td>\n",
       "            <td>Crime</td>\n",
       "            <td>1.717376</td>\n",
       "        </tr>\n",
       "        <tr>\n",
       "            <td>22600</td>\n",
       "            <td>Gangster&#x27;s Paradise: Jerusalema</td>\n",
       "            <td>Foreign</td>\n",
       "            <td>1.717376</td>\n",
       "        </tr>\n",
       "    </tbody>\n",
       "</table>"
      ],
      "text/plain": [
       "[(17654, 'District 9', 'Science Fiction', 63.13678),\n",
       " (1372, 'Blood Diamond', 'Drama', 52.792678),\n",
       " (1372, 'Blood Diamond', 'Action', 52.792678),\n",
       " (1372, 'Blood Diamond', 'Thriller', 52.792678),\n",
       " (868, 'Tsotsi', 'Drama', 2.504169),\n",
       " (868, 'Tsotsi', 'Crime', 2.504169),\n",
       " (22600, \"Gangster's Paradise: Jerusalema\", 'Drama', 1.717376),\n",
       " (22600, \"Gangster's Paradise: Jerusalema\", 'Action', 1.717376),\n",
       " (22600, \"Gangster's Paradise: Jerusalema\", 'Crime', 1.717376),\n",
       " (22600, \"Gangster's Paradise: Jerusalema\", 'Foreign', 1.717376)]"
      ]
     },
     "execution_count": 101,
     "metadata": {},
     "output_type": "execute_result"
    }
   ],
   "source": [
    "%%sql\n",
    "SELECT \n",
    "    m.movie_id,\n",
    "    m.title,\n",
    "    g.genre_name,\n",
    "    m.popularity\n",
    "FROM\n",
    "    movies AS m\n",
    "JOIN\n",
    "    genremap AS gm ON gm.movie_id = m.movie_id\n",
    "JOIN\n",
    "    genres AS g ON g.genre_id = gm.genre_id\n",
    "WHERE \n",
    "    m.title IN ('District 9', 'Blood Diamond', 'Tsotsi', 'Gangster''s Paradise: Jerusalema')\n",
    "ORDER BY\n",
    "    m.popularity DESC;\n",
    "\n",
    "\n"
   ]
  },
  {
   "cell_type": "code",
   "execution_count": 106,
   "id": "0f3d9a96-9c00-4184-9f27-fd01d28e7ac3",
   "metadata": {},
   "outputs": [
    {
     "name": "stdout",
     "output_type": "stream",
     "text": [
      " * sqlite:///TMDB.db\n",
      "Done.\n"
     ]
    },
    {
     "data": {
      "text/html": [
       "<table>\n",
       "    <thead>\n",
       "        <tr>\n",
       "            <th>movie_id</th>\n",
       "            <th>title</th>\n",
       "            <th>release_date</th>\n",
       "            <th>budget</th>\n",
       "            <th>homepage</th>\n",
       "            <th>original_language</th>\n",
       "            <th>original_title</th>\n",
       "            <th>overview</th>\n",
       "            <th>popularity</th>\n",
       "            <th>revenue</th>\n",
       "            <th>runtime</th>\n",
       "            <th>release_status</th>\n",
       "            <th>tagline</th>\n",
       "            <th>vote_average</th>\n",
       "            <th>vote_count</th>\n",
       "        </tr>\n",
       "    </thead>\n",
       "    <tbody>\n",
       "        <tr>\n",
       "            <td>380097</td>\n",
       "            <td>America Is Still the Place</td>\n",
       "            <td>None</td>\n",
       "            <td>0</td>\n",
       "            <td>None</td>\n",
       "            <td>en</td>\n",
       "            <td>America Is Still the Place</td>\n",
       "            <td>&quot;1971 post civil rights San Francisco seemed like the perfect place for a black Korean War veteran and his family to realize their dream of economic independence and his own chance to be his a &quot;&quot;boss&quot;&quot;. Charlie Walker would soon find out how naive he was. In a city full of impostors and naysayers, he refused to take &quot;&quot;No&quot;&quot; for an answer. Until a catastrophic disaster opened a door that had never been open to a black man before. This is a story about what happened when he stepped through that door, with both feet!.&quot;</td>\n",
       "            <td>0.0</td>\n",
       "            <td>0.0</td>\n",
       "            <td>0.0</td>\n",
       "            <td>Released</td>\n",
       "            <td>None</td>\n",
       "            <td>0.0</td>\n",
       "            <td>0</td>\n",
       "        </tr>\n",
       "        <tr>\n",
       "            <td>3059</td>\n",
       "            <td>Intolerance</td>\n",
       "            <td>1916-09-04 00:00:00.000000</td>\n",
       "            <td>385907</td>\n",
       "            <td>None</td>\n",
       "            <td>en</td>\n",
       "            <td>Intolerance</td>\n",
       "            <td>The story of a poor young woman, separated by prejudice from her husband and baby, is interwoven with tales of intolerance from throughout history.</td>\n",
       "            <td>3.232447</td>\n",
       "            <td>8394751.0</td>\n",
       "            <td>197.0</td>\n",
       "            <td>Released</td>\n",
       "            <td>The Cruel Hand of Intolerance</td>\n",
       "            <td>7.4</td>\n",
       "            <td>60</td>\n",
       "        </tr>\n",
       "        <tr>\n",
       "            <td>3060</td>\n",
       "            <td>The Big Parade</td>\n",
       "            <td>1925-11-05 00:00:00.000000</td>\n",
       "            <td>245000</td>\n",
       "            <td>None</td>\n",
       "            <td>en</td>\n",
       "            <td>The Big Parade</td>\n",
       "            <td>The story of an idle rich boy who joins the US Army&#x27;s Rainbow Division and is sent to France to fight in World War I, becomes friends with two working class men, experiences the horrors of trench warfare, and finds love with a French girl.</td>\n",
       "            <td>0.785744</td>\n",
       "            <td>22000000.0</td>\n",
       "            <td>151.0</td>\n",
       "            <td>Released</td>\n",
       "            <td>None</td>\n",
       "            <td>7.0</td>\n",
       "            <td>21</td>\n",
       "        </tr>\n",
       "        <tr>\n",
       "            <td>19</td>\n",
       "            <td>Metropolis</td>\n",
       "            <td>1927-01-10 00:00:00.000000</td>\n",
       "            <td>92620000</td>\n",
       "            <td>None</td>\n",
       "            <td>de</td>\n",
       "            <td>Metropolis</td>\n",
       "            <td>In a futuristic city sharply divided between the working class and the city planners, the son of the city&#x27;s mastermind falls in love with a working class prophet who predicts the coming of a savior to mediate their differences.</td>\n",
       "            <td>32.351527</td>\n",
       "            <td>650422.0</td>\n",
       "            <td>153.0</td>\n",
       "            <td>Released</td>\n",
       "            <td>There can be no understanding between the hands and the brain unless the heart acts as mediator.</td>\n",
       "            <td>8.0</td>\n",
       "            <td>657</td>\n",
       "        </tr>\n",
       "        <tr>\n",
       "            <td>905</td>\n",
       "            <td>Pandora&#x27;s Box</td>\n",
       "            <td>1929-01-30 00:00:00.000000</td>\n",
       "            <td>0</td>\n",
       "            <td>None</td>\n",
       "            <td>de</td>\n",
       "            <td>Die Bnchse der Pandora</td>\n",
       "            <td>The rise and inevitable fall of an amoral but naive young woman whose insouciant eroticism inspires lust and violence in those around her.</td>\n",
       "            <td>1.824184</td>\n",
       "            <td>0.0</td>\n",
       "            <td>109.0</td>\n",
       "            <td>Released</td>\n",
       "            <td>None</td>\n",
       "            <td>7.6</td>\n",
       "            <td>45</td>\n",
       "        </tr>\n",
       "        <tr>\n",
       "            <td>65203</td>\n",
       "            <td>The Broadway Melody</td>\n",
       "            <td>1929-02-08 00:00:00.000000</td>\n",
       "            <td>379000</td>\n",
       "            <td>None</td>\n",
       "            <td>en</td>\n",
       "            <td>The Broadway Melody</td>\n",
       "            <td>Harriet and Queenie Mahoney, a vaudeville act, come to Broadway, where their friend Eddie Kerns needs them for his number in one of Francis Zanfield&#x27;s shows. Eddie was in love with Harriet, but when he meets Queenie, he falls in love to her, but she is courted by Jock Warriner, a member of the New Yorker high society. It takes a while till Queenie recognizes, that she is for Jock nothing more than a toy, and it also takes a while till Harriet recognizes, that Eddie is in love with Queenie</td>\n",
       "            <td>0.968865</td>\n",
       "            <td>4358000.0</td>\n",
       "            <td>100.0</td>\n",
       "            <td>Released</td>\n",
       "            <td>The pulsating drama of Broadway&#x27;s bared heart speaks and sings with a voice to stir your soul!</td>\n",
       "            <td>5.0</td>\n",
       "            <td>19</td>\n",
       "        </tr>\n",
       "        <tr>\n",
       "            <td>22301</td>\n",
       "            <td>Hell&#x27;s Angels</td>\n",
       "            <td>1930-11-15 00:00:00.000000</td>\n",
       "            <td>3950000</td>\n",
       "            <td>None</td>\n",
       "            <td>en</td>\n",
       "            <td>Hell&#x27;s Angels</td>\n",
       "            <td>Two brothers attending Oxford enlist with the Royal Flying Corps when World War I breaks out. Roy and Monte Rutledge have very different personalities. Monte is a freewheeling womanizer, even with his brother&#x27;s girlfriend Helen. He also proves to have a yellow streak when it comes to his Night Patrol duties. Roy is made of strong moral fiber and attempts to keep his brother in line. Both volunteer for an extremely risky two man bombing mission for different reasons. Monte wants to lose his cowardly reputation and Roy seeks to protect his brother. Roy loves Helen; Helen enjoys an affair with Monte; before they leave on their mission over Germany they find her in still another man&#x27;s arms.  Their assignment to knock out a strategic German munitions facility is a booming success, but with a squadron of fighters bearing down on them afterwards, escape seems unlikely.</td>\n",
       "            <td>8.484123</td>\n",
       "            <td>8000000.0</td>\n",
       "            <td>127.0</td>\n",
       "            <td>Released</td>\n",
       "            <td>Howard Hughes&#x27; Thrilling Multi-Million Dollar Air Spectacle</td>\n",
       "            <td>6.1</td>\n",
       "            <td>19</td>\n",
       "        </tr>\n",
       "        <tr>\n",
       "            <td>22649</td>\n",
       "            <td>A Farewell to Arms</td>\n",
       "            <td>1932-12-08 00:00:00.000000</td>\n",
       "            <td>4</td>\n",
       "            <td>None</td>\n",
       "            <td>en</td>\n",
       "            <td>A Farewell to Arms</td>\n",
       "            <td>British nurse Catherine Barkley (Helen Hayes) and American Lieutenant Frederic Henry (Gary Cooper) fall in love during the First World War in Italy. Eventually separated by Frederic&#x27;s transfer, tremendous challenges and difficult decisions face each, as the war rages on. Academy Awards winner for Best Cinematography and for Best Sound, Recording. Nominated for Best Picture and for Best Art Direction.</td>\n",
       "            <td>1.199451</td>\n",
       "            <td>25.0</td>\n",
       "            <td>89.0</td>\n",
       "            <td>Released</td>\n",
       "            <td>Every woman who has loved will understand</td>\n",
       "            <td>6.2</td>\n",
       "            <td>28</td>\n",
       "        </tr>\n",
       "        <tr>\n",
       "            <td>3062</td>\n",
       "            <td>42nd Street</td>\n",
       "            <td>1933-02-02 00:00:00.000000</td>\n",
       "            <td>439000</td>\n",
       "            <td>None</td>\n",
       "            <td>en</td>\n",
       "            <td>42nd Street</td>\n",
       "            <td>A producer puts on what may be his last Broadway show, and at the last moment a chorus girl has to replace the star.</td>\n",
       "            <td>1.933366</td>\n",
       "            <td>2281000.0</td>\n",
       "            <td>89.0</td>\n",
       "            <td>Released</td>\n",
       "            <td>None</td>\n",
       "            <td>6.1</td>\n",
       "            <td>37</td>\n",
       "        </tr>\n",
       "        <tr>\n",
       "            <td>43595</td>\n",
       "            <td>She Done Him Wrong</td>\n",
       "            <td>1933-02-09 00:00:00.000000</td>\n",
       "            <td>200000</td>\n",
       "            <td>None</td>\n",
       "            <td>en</td>\n",
       "            <td>She Done Him Wrong</td>\n",
       "            <td>&quot;New York singer and nightclub owner Lady Lou has more men friends than you can imagine. Unfortunately one of them is a vicious criminal who&#x27;s escaped and is on the way to see &quot;&quot;his&quot;&quot; girl, not realising she hasn&#x27;t exactly been faithful in his absence. Help is at hand in the form of young Captain Cummings a local temperance league leader though.&quot;</td>\n",
       "            <td>0.622752</td>\n",
       "            <td>2200000.0</td>\n",
       "            <td>66.0</td>\n",
       "            <td>Released</td>\n",
       "            <td>Mae West gives a &#x27;Hot Time&#x27; to the nation!</td>\n",
       "            <td>5.1</td>\n",
       "            <td>27</td>\n",
       "        </tr>\n",
       "    </tbody>\n",
       "</table>"
      ],
      "text/plain": [
       "[(380097, 'America Is Still the Place', None, 0, None, 'en', 'America Is Still the Place', '\"1971 post civil rights San Francisco seemed like the perfect place for a black Korean War veteran and his family to realize their dream of economic  ... (222 characters truncated) ... pened a door that had never been open to a black man before. This is a story about what happened when he stepped through that door, with both feet!.\"', 0.0, 0.0, 0.0, 'Released', None, 0.0, 0),\n",
       " (3059, 'Intolerance', '1916-09-04 00:00:00.000000', 385907, None, 'en', 'Intolerance', 'The story of a poor young woman, separated by prejudice from her husband and baby, is interwoven with tales of intolerance from throughout history.', 3.232447, 8394751.0, 197.0, 'Released', 'The Cruel Hand of Intolerance', 7.4, 60),\n",
       " (3060, 'The Big Parade', '1925-11-05 00:00:00.000000', 245000, None, 'en', 'The Big Parade', \"The story of an idle rich boy who joins the US Army's Rainbow Division and is sent to France to fight in World War I, becomes friends with two working class men, experiences the horrors of trench warfare, and finds love with a French girl.\", 0.785744, 22000000.0, 151.0, 'Released', None, 7.0, 21),\n",
       " (19, 'Metropolis', '1927-01-10 00:00:00.000000', 92620000, None, 'de', 'Metropolis', \"In a futuristic city sharply divided between the working class and the city planners, the son of the city's mastermind falls in love with a working class prophet who predicts the coming of a savior to mediate their differences.\", 32.351527, 650422.0, 153.0, 'Released', 'There can be no understanding between the hands and the brain unless the heart acts as mediator.', 8.0, 657),\n",
       " (905, \"Pandora's Box\", '1929-01-30 00:00:00.000000', 0, None, 'de', 'Die Bnchse der Pandora', 'The rise and inevitable fall of an amoral but naive young woman whose insouciant eroticism inspires lust and violence in those around her.', 1.824184, 0.0, 109.0, 'Released', None, 7.6, 45),\n",
       " (65203, 'The Broadway Melody', '1929-02-08 00:00:00.000000', 379000, None, 'en', 'The Broadway Melody', \"Harriet and Queenie Mahoney, a vaudeville act, come to Broadway, where their friend Eddie Kerns needs them for his number in one of Francis Zanfield' ... (195 characters truncated) ... eenie recognizes, that she is for Jock nothing more than a toy, and it also takes a while till Harriet recognizes, that Eddie is in love with Queenie\", 0.968865, 4358000.0, 100.0, 'Released', \"The pulsating drama of Broadway's bared heart speaks and sings with a voice to stir your soul!\", 5.0, 19),\n",
       " (22301, \"Hell's Angels\", '1930-11-15 00:00:00.000000', 3950000, None, 'en', \"Hell's Angels\", \"Two brothers attending Oxford enlist with the Royal Flying Corps when World War I breaks out. Roy and Monte Rutledge have very different personalitie ... (576 characters truncated) ... t a strategic German munitions facility is a booming success, but with a squadron of fighters bearing down on them afterwards, escape seems unlikely.\", 8.484123, 8000000.0, 127.0, 'Released', \"Howard Hughes' Thrilling Multi-Million Dollar Air Spectacle\", 6.1, 19),\n",
       " (22649, 'A Farewell to Arms', '1932-12-08 00:00:00.000000', 4, None, 'en', 'A Farewell to Arms', \"British nurse Catherine Barkley (Helen Hayes) and American Lieutenant Frederic Henry (Gary Cooper) fall in love during the First World War in Italy.  ... (105 characters truncated) ... the war rages on. Academy Awards winner for Best Cinematography and for Best Sound, Recording. Nominated for Best Picture and for Best Art Direction.\", 1.199451, 25.0, 89.0, 'Released', 'Every woman who has loved will understand', 6.2, 28),\n",
       " (3062, '42nd Street', '1933-02-02 00:00:00.000000', 439000, None, 'en', '42nd Street', 'A producer puts on what may be his last Broadway show, and at the last moment a chorus girl has to replace the star.', 1.933366, 2281000.0, 89.0, 'Released', None, 6.1, 37),\n",
       " (43595, 'She Done Him Wrong', '1933-02-09 00:00:00.000000', 200000, None, 'en', 'She Done Him Wrong', '\"New York singer and nightclub owner Lady Lou has more men friends than you can imagine. Unfortunately one of them is a vicious criminal who\\'s escap ... (52 characters truncated) ... ing she hasn\\'t exactly been faithful in his absence. Help is at hand in the form of young Captain Cummings a local temperance league leader though.\"', 0.622752, 2200000.0, 66.0, 'Released', \"Mae West gives a 'Hot Time' to the nation!\", 5.1, 27)]"
      ]
     },
     "execution_count": 106,
     "metadata": {},
     "output_type": "execute_result"
    }
   ],
   "source": [
    "%%sql\n",
    "SELECT * FROM movies ORDER BY release_date ASC LIMIT 10\n"
   ]
  },
  {
   "cell_type": "code",
   "execution_count": null,
   "id": "9436ea40-b4fe-48a5-a7d6-5421af13a4fb",
   "metadata": {},
   "outputs": [],
   "source": []
  }
 ],
 "metadata": {
  "kernelspec": {
   "display_name": "Python 3 (ipykernel)",
   "language": "python",
   "name": "python3"
  },
  "language_info": {
   "codemirror_mode": {
    "name": "ipython",
    "version": 3
   },
   "file_extension": ".py",
   "mimetype": "text/x-python",
   "name": "python",
   "nbconvert_exporter": "python",
   "pygments_lexer": "ipython3",
   "version": "3.10.13"
  }
 },
 "nbformat": 4,
 "nbformat_minor": 5
}
